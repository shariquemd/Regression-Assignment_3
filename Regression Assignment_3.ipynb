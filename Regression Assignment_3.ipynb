{
 "cells": [
  {
   "cell_type": "code",
   "execution_count": null,
   "id": "737500d2-da76-4e44-abbc-c717626db9ea",
   "metadata": {},
   "outputs": [],
   "source": [
    "Q1. What is Ridge Regression, and how does it differ from ordinary least squares regression?\n",
    "Ridge Regression:\n",
    "Ridge Regression is a regularized linear regression technique that adds a penalty term to the ordinary least squares (OLS) regression cost function.\n",
    "The penalty term is proportional to the square of the magnitude of the coefficients.\n",
    "Differences:\n",
    "In OLS, the goal is to minimize the sum of squared residuals without any penalty on the magnitude of coefficients.\n",
    "Idiscourages large coefficients, leading to a shrinkage of coefficients.\n",
    "\n",
    "\n",
    "Q2. What are the assumptions of Ridge Regression?\n",
    "Assumptions:\n",
    "Linearity: The relationship between independent and dependent variables is linear.\n",
    "Independence: Residuals are independent.\n",
    "Homoscedasticity: Residuals have constant variance.\n",
    "Normality: Residuals are normally distributed.\n",
    "No Perfect Multicollinearity: The independent variables are not perfectly correlated.\n",
    "\n",
    "\n",
    "Q3. How do you select the value of the tuning parameter (lambda) in Ridge Regression?\n",
    "The tuning parameter (λ) in Ridge Regression controls the strength of the penalty on the coefficients.\n",
    "Selection can be done through techniques like cross-validation, where different values of λ are tested on subsets of the training data, and the one providing the best performance is chosen.\n",
    "\n",
    "Q4. Can Ridge Regression be used for feature selection? If yes, how?\n",
    "Ridge Regression tends to shrink the coefficients towards zero without eliminating them.\n",
    "While it doesn't perform explicit feature selection like Lasso Regression, it can be used to downweight less important features by reducing their coefficients.\n",
    "\n",
    "\n",
    "Q5. How does the Ridge Regression model perform in the presence of multicollinearity?\n",
    "Ridge Regression is effective in handling multicollinearity (high correlation between independent variables).\n",
    "It stabilizes coefficient estimates, preventing them from being inflated due to multicollinearity.\n",
    "Ridge Regression is particularly useful when there are many correlated predictors.\n",
    "\n",
    "\n",
    "Q6. Can Ridge Regression handle both categorical and continuous independent variables?\n",
    "Ridge Regression can handle both categorical and continuous independent variables.\n",
    "Categorical variables may need to be appropriately encoded (e.g., one-hot encoding) to be used in the regression model.\n",
    "\n",
    "\n",
    "Q7. How do you interpret the coefficients of Ridge Regression?\n",
    "The coefficients in Ridge Regression represent the change in the dependent variable for a one-unit change in the respective independent variable, considering the influence of all other variables.\n",
    "The magnitude of the coefficients is influenced by the penalty term, which tends to shrink them towards zero.\n",
    "\n",
    "\n",
    "Q8. Can Ridge Regression be used for time-series data analysis? If yes, how?\n",
    "Ridge Regression can be adapted for time-series data analysis.\n",
    "When working with time-series data, it's essential to consider the temporal structure and potential autocorrelation.\n",
    "Time-dependent features or lagged variables can be included in the model, and the regularization term helps prevent overfitting, especially when dealing with multicollinearity or a large number of predictors."
   ]
  }
 ],
 "metadata": {
  "kernelspec": {
   "display_name": "Python 3 (ipykernel)",
   "language": "python",
   "name": "python3"
  },
  "language_info": {
   "codemirror_mode": {
    "name": "ipython",
    "version": 3
   },
   "file_extension": ".py",
   "mimetype": "text/x-python",
   "name": "python",
   "nbconvert_exporter": "python",
   "pygments_lexer": "ipython3",
   "version": "3.10.8"
  }
 },
 "nbformat": 4,
 "nbformat_minor": 5
}
